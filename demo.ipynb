{
 "cells": [
  {
   "cell_type": "markdown",
   "metadata": {},
   "source": [
    "# Generator of symmetric subgroup of $V(FC_3)$\n",
    "\n",
    "We obtain a generator of the cyclic subgroup formed by the symmetric units in the normalized unit group $V(FC_3),$ where $F$ is a finite field of characteristic $p > 3.$ The following example demonsrates the theoretical approach towards this end in the paper \"The Normal Complement Problem and the Structure of the Unitary Subgroup\" (see https://doi.org/10.1080/00927872.2020.1742727)."
   ]
  },
  {
   "cell_type": "code",
   "execution_count": 22,
   "metadata": {},
   "outputs": [],
   "source": [
    "Read(\"generatorsymmetricsubgroup.g\");\n",
    " "
   ]
  },
  {
   "cell_type": "code",
   "execution_count": 24,
   "metadata": {},
   "outputs": [
    {
     "name": "stdout",
     "output_type": "stream",
     "text": [
      "[ (Z(7)^4)*f1+(Z(7)^4)*f1^2, 6 ]"
     ]
    },
    {
     "data": {
      "text/plain": [
       "0"
      ]
     },
     "execution_count": 24,
     "metadata": {
      "text/plain": ""
     },
     "output_type": "execute_result"
    }
   ],
   "source": [
    "Print(generatorsymmetricsubgroup(7,1));\n",
    "\n",
    "#direct command to obtain the generator of symmetric subgroup developed through the code based on the theory in paper.\n",
    "\n",
    "time;\n",
    "\n",
    "#time taken to obtain the generator of symmetric subgroup in V(FC_3), where F is the field with 7 elements."
   ]
  },
  {
   "cell_type": "code",
   "execution_count": 31,
   "metadata": {},
   "outputs": [
    {
     "name": "stdout",
     "output_type": "stream",
     "text": [
      "Group( [ (Z(7)^0)*f1^2, (Z(7))*f1^2, (Z(7)^0)*f1+(Z(7)^0)*f1^2, \n",
      "  (Z(7)^0)*f1+(Z(7)^2)*f1^2 ] )"
     ]
    }
   ],
   "source": [
    "# Let us contruct an example to see the efficiency of the algorithm. For that let us first build a group ring \n",
    "# of the cyclic group of order 3 over the field with 7 elements.\n",
    "\n",
    "p:=7;;\n",
    "n:=1;;\n",
    "F:=GF(p^n);;\n",
    "G:=CyclicGroup(3);;\n",
    "FG:=GroupRing(F,G);;\n",
    "# FG is the group ring of the cyclic group of order 3 over the field with p^n elements.\n",
    "\n",
    "u:=Units(FG);;\n",
    "# u is the group formed by all the invertible elements in FG.\n",
    "Print(u);\n"
   ]
  },
  {
   "cell_type": "code",
   "execution_count": 35,
   "metadata": {},
   "outputs": [
    {
     "name": "stdout",
     "output_type": "stream",
     "text": [
      "[ (Z(7)^0)*<identity> of ..., (Z(7)^0)*<identity> of ...+(Z(7)^2)*f1+(Z(7)^\n",
      "    2)*f1^2, (Z(7)^0)*<identity> of ...+(Z(7)^3)*f1+(Z(7)^3)*f1^2, \n",
      "  (Z(7)^0)*<identity> of ...+(Z(7)^4)*f1+(Z(7)^4)*f1^2, \n",
      "  (Z(7)^0)*<identity> of ...+(Z(7)^5)*f1+(Z(7)^5)*f1^2, \n",
      "  (Z(7))*<identity> of ..., (Z(7))*<identity> of ...+(Z(7)^0)*f1+(Z(7)^0)*f1^2\n",
      "    , (Z(7))*<identity> of ...+(Z(7)^3)*f1+(Z(7)^3)*f1^2, \n",
      "  (Z(7))*<identity> of ...+(Z(7)^4)*f1+(Z(7)^4)*f1^2, \n",
      "  (Z(7))*<identity> of ...+(Z(7)^5)*f1+(Z(7)^5)*f1^2, \n",
      "  (Z(7)^2)*<identity> of ..., (Z(7)^2)*<identity> of ...+(Z(7)^0)*f1+(Z(7)^\n",
      "    0)*f1^2, (Z(7)^2)*<identity> of ...+(Z(7))*f1+(Z(7))*f1^2, \n",
      "  (Z(7)^2)*<identity> of ...+(Z(7)^4)*f1+(Z(7)^4)*f1^2, \n",
      "  (Z(7)^2)*<identity> of ...+(Z(7)^5)*f1+(Z(7)^5)*f1^2, \n",
      "  (Z(7)^3)*<identity> of ..., (Z(7)^3)*<identity> of ...+(Z(7)^0)*f1+(Z(7)^\n",
      "    0)*f1^2, (Z(7)^3)*<identity> of ...+(Z(7))*f1+(Z(7))*f1^2, \n",
      "  (Z(7)^3)*<identity> of ...+(Z(7)^2)*f1+(Z(7)^2)*f1^2, \n",
      "  (Z(7)^3)*<identity> of ...+(Z(7)^5)*f1+(Z(7)^5)*f1^2, \n",
      "  (Z(7)^4)*<identity> of ..., (Z(7)^4)*<identity> of ...+(Z(7)^0)*f1+(Z(7)^\n",
      "    0)*f1^2, (Z(7)^4)*<identity> of ...+(Z(7))*f1+(Z(7))*f1^2, \n",
      "  (Z(7)^4)*<identity> of ...+(Z(7)^2)*f1+(Z(7)^2)*f1^2, \n",
      "  (Z(7)^4)*<identity> of ...+(Z(7)^3)*f1+(Z(7)^3)*f1^2, \n",
      "  (Z(7)^5)*<identity> of ..., (Z(7)^5)*<identity> of ...+(Z(7))*f1+(Z(7))*f1^2\n",
      "    , (Z(7)^5)*<identity> of ...+(Z(7)^2)*f1+(Z(7)^2)*f1^2, \n",
      "  (Z(7)^5)*<identity> of ...+(Z(7)^3)*f1+(Z(7)^3)*f1^2, \n",
      "  (Z(7)^5)*<identity> of ...+(Z(7)^4)*f1+(Z(7)^4)*f1^2, \n",
      "  (Z(7)^0)*f1+(Z(7)^0)*f1^2, (Z(7))*f1+(Z(7))*f1^2, (Z(7)^2)*f1+(Z(7)^2)*f1^2,\n",
      "  (Z(7)^3)*f1+(Z(7)^3)*f1^2, (Z(7)^4)*f1+(Z(7)^4)*f1^2, \n",
      "  (Z(7)^5)*f1+(Z(7)^5)*f1^2 ]"
     ]
    },
    {
     "data": {
      "text/plain": [
       "1610"
      ]
     },
     "execution_count": 35,
     "metadata": {
      "text/plain": ""
     },
     "output_type": "execute_result"
    }
   ],
   "source": [
    "# Let us collect all the symmetric units in FG.\n",
    "t:=[];;\n",
    "for i in u do\n",
    "    if IsSymmetric(i)\n",
    "        then Append(t,[i]);\n",
    "    fi;\n",
    "od;\n",
    "Print(t);\n",
    "time;\n"
   ]
  },
  {
   "cell_type": "code",
   "execution_count": 39,
   "metadata": {},
   "outputs": [
    {
     "name": "stdout",
     "output_type": "stream",
     "text": [
      "24"
     ]
    }
   ],
   "source": [
    "# It follows from the above paper that the symmetric units form a cyclic subgroup of size (|F|-1) in the normalized \n",
    "# unit group. \n",
    "# Now we collect all the symmetric units with order (|F|-1). \n",
    "\n",
    "s:=[];;\n",
    "for i in t do\n",
    "    if Order(i) = ((p^n)-1)\n",
    "        then\n",
    "        Append(s,[i]);\n",
    "    fi;\n",
    "od;\n",
    "m:=Size(s);;\n",
    "Print(m);\n",
    "\n"
   ]
  },
  {
   "cell_type": "code",
   "execution_count": 42,
   "metadata": {},
   "outputs": [
    {
     "name": "stdout",
     "output_type": "stream",
     "text": [
      "(Z(7)^3)*<identity> of ...+(Z(7)^0)*f1+(Z(7)^0)*f1^2(Z(7)^4)*f1+(Z(7)^4)*f1^2"
     ]
    },
    {
     "data": {
      "text/plain": [
       "125"
      ]
     },
     "execution_count": 42,
     "metadata": {
      "text/plain": ""
     },
     "output_type": "execute_result"
    }
   ],
   "source": [
    "# the unity of field F.\n",
    "q:=(PrimitiveElement(F))^(Size(F)-1);;\n",
    "\n",
    "\n",
    "# Now we pick some symmetric unit of augmentation 1.\n",
    "\n",
    "for i in [1,2..m] do\n",
    "    if Augmentation(s[i]) = q\n",
    "        then Print(s[i]);\n",
    "    fi;\n",
    "od;\n",
    "time;\n",
    "\n",
    "#time taken by the traditional way to obtain the generator."
   ]
  },
  {
   "cell_type": "markdown",
   "metadata": {},
   "source": [
    "Thus the time taken to construct the generator of the symmetric subgroup of $V(FC_3)$ is much more in general. Infact for the fields of size more than 7, even the time taken to obtain invertible elements in $FC_3$ is significantly more, whereas through the code one can obtain the result in much lesser span of time."
   ]
  }
 ],
 "metadata": {
  "kernelspec": {
   "display_name": "GAP 4",
   "language": "gap",
   "name": "gap-4"
  },
  "language_info": {
   "codemirror_mode": "gap",
   "file_extension": ".g",
   "mimetype": "text/x-gap",
   "name": "GAP 4",
   "nbconvert_exporter": "",
   "pygments_lexer": "gap",
   "version": "4.10.2"
  }
 },
 "nbformat": 4,
 "nbformat_minor": 2
}
