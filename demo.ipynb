{
 "cells": [
  {
   "cell_type": "markdown",
   "metadata": {},
   "source": [
    "# Generator of symmetric subgroup of $V(FC_3)$"
   ]
  },
  {
   "cell_type": "code",
   "execution_count": 1,
   "metadata": {},
   "outputs": [],
   "source": [
    "Read(\"generatorsymmetricsubgroup.g\");\n"
   ]
  },
  {
   "cell_type": "code",
   "execution_count": 3,
   "metadata": {},
   "outputs": [
    {
     "name": "stdout",
     "output_type": "stream",
     "text": [
      "[ (Z(7)^4)*f1+(Z(7)^4)*f1^2, 6 ]"
     ]
    },
    {
     "data": {
      "text/plain": [
       "8"
      ]
     },
     "execution_count": 3,
     "metadata": {
      "text/plain": ""
     },
     "output_type": "execute_result"
    }
   ],
   "source": [
    "Print(generatorsymmetricsubgroup(7,1));\n",
    "time;"
   ]
  },
  {
   "cell_type": "code",
   "execution_count": 11,
   "metadata": {},
   "outputs": [
    {
     "name": "stdout",
     "output_type": "stream",
     "text": [
      "Group( [ (Z(7)^0)*f1^2, (Z(7))*f1^2, (Z(7)^0)*f1+(Z(7)^0)*f1^2, \n",
      "  (Z(7)^0)*f1+(Z(7)^2)*f1^2 ] )"
     ]
    }
   ],
   "source": [
    "p:=7;;\n",
    "n:=1;;\n",
    "F:=GF(p^n);;\n",
    "q:=(PrimitiveElement(F))^(Size(F)-1);;\n",
    "G:=CyclicGroup(3);;\n",
    "FG:=GroupRing(F,G);;\n",
    "u:=Units(FG);;\n",
    "Print(u);\n"
   ]
  },
  {
   "cell_type": "code",
   "execution_count": 14,
   "metadata": {},
   "outputs": [
    {
     "name": "stdout",
     "output_type": "stream",
     "text": [
      "[ (Z(7)^0)*<identity> of ..., (Z(7)^0)*<identity> of ...+(Z(7)^2)*f1+(Z(7)^\n",
      "    2)*f1^2, (Z(7)^0)*<identity> of ...+(Z(7)^3)*f1+(Z(7)^3)*f1^2, \n",
      "  (Z(7)^0)*<identity> of ...+(Z(7)^4)*f1+(Z(7)^4)*f1^2, \n",
      "  (Z(7)^0)*<identity> of ...+(Z(7)^5)*f1+(Z(7)^5)*f1^2, \n",
      "  (Z(7))*<identity> of ..., (Z(7))*<identity> of ...+(Z(7)^0)*f1+(Z(7)^0)*f1^2\n",
      "    , (Z(7))*<identity> of ...+(Z(7)^3)*f1+(Z(7)^3)*f1^2, \n",
      "  (Z(7))*<identity> of ...+(Z(7)^4)*f1+(Z(7)^4)*f1^2, \n",
      "  (Z(7))*<identity> of ...+(Z(7)^5)*f1+(Z(7)^5)*f1^2, \n",
      "  (Z(7)^2)*<identity> of ..., (Z(7)^2)*<identity> of ...+(Z(7)^0)*f1+(Z(7)^\n",
      "    0)*f1^2, (Z(7)^2)*<identity> of ...+(Z(7))*f1+(Z(7))*f1^2, \n",
      "  (Z(7)^2)*<identity> of ...+(Z(7)^4)*f1+(Z(7)^4)*f1^2, \n",
      "  (Z(7)^2)*<identity> of ...+(Z(7)^5)*f1+(Z(7)^5)*f1^2, \n",
      "  (Z(7)^3)*<identity> of ..., (Z(7)^3)*<identity> of ...+(Z(7)^0)*f1+(Z(7)^\n",
      "    0)*f1^2, (Z(7)^3)*<identity> of ...+(Z(7))*f1+(Z(7))*f1^2, \n",
      "  (Z(7)^3)*<identity> of ...+(Z(7)^2)*f1+(Z(7)^2)*f1^2, \n",
      "  (Z(7)^3)*<identity> of ...+(Z(7)^5)*f1+(Z(7)^5)*f1^2, \n",
      "  (Z(7)^4)*<identity> of ..., (Z(7)^4)*<identity> of ...+(Z(7)^0)*f1+(Z(7)^\n",
      "    0)*f1^2, (Z(7)^4)*<identity> of ...+(Z(7))*f1+(Z(7))*f1^2, \n",
      "  (Z(7)^4)*<identity> of ...+(Z(7)^2)*f1+(Z(7)^2)*f1^2, \n",
      "  (Z(7)^4)*<identity> of ...+(Z(7)^3)*f1+(Z(7)^3)*f1^2, \n",
      "  (Z(7)^5)*<identity> of ..., (Z(7)^5)*<identity> of ...+(Z(7))*f1+(Z(7))*f1^2\n",
      "    , (Z(7)^5)*<identity> of ...+(Z(7)^2)*f1+(Z(7)^2)*f1^2, \n",
      "  (Z(7)^5)*<identity> of ...+(Z(7)^3)*f1+(Z(7)^3)*f1^2, \n",
      "  (Z(7)^5)*<identity> of ...+(Z(7)^4)*f1+(Z(7)^4)*f1^2, \n",
      "  (Z(7)^0)*f1+(Z(7)^0)*f1^2, (Z(7))*f1+(Z(7))*f1^2, (Z(7)^2)*f1+(Z(7)^2)*f1^2,\n",
      "  (Z(7)^3)*f1+(Z(7)^3)*f1^2, (Z(7)^4)*f1+(Z(7)^4)*f1^2, \n",
      "  (Z(7)^5)*f1+(Z(7)^5)*f1^2 ]"
     ]
    }
   ],
   "source": [
    "t:=[];;\n",
    "for i in u do\n",
    "    if IsSymmetric(i)\n",
    "        then Append(t,[i]);\n",
    "    fi;\n",
    "od;\n",
    "Print(t);"
   ]
  },
  {
   "cell_type": "code",
   "execution_count": 18,
   "metadata": {},
   "outputs": [
    {
     "name": "stdout",
     "output_type": "stream",
     "text": [
      "24"
     ]
    }
   ],
   "source": [
    "s:=[];;\n",
    "for i in t do\n",
    "    if Order(i) = (7-1)\n",
    "        then\n",
    "        Append(s,[i]);\n",
    "    fi;\n",
    "od;\n",
    "m:=Size(s);;\n",
    "Print(m);\n",
    "\n"
   ]
  },
  {
   "cell_type": "code",
   "execution_count": 20,
   "metadata": {},
   "outputs": [
    {
     "name": "stdout",
     "output_type": "stream",
     "text": [
      "(Z(7)^3)*<identity> of ...+(Z(7)^0)*f1+(Z(7)^0)*f1^2(Z(7)^4)*f1+(Z(7)^4)*f1^2"
     ]
    },
    {
     "data": {
      "text/plain": [
       "140"
      ]
     },
     "execution_count": 20,
     "metadata": {
      "text/plain": ""
     },
     "output_type": "execute_result"
    }
   ],
   "source": [
    "for i in [1,2..Size(s)] do\n",
    "    if Augmentation(s[i]) = q\n",
    "        then Print(s[i]);\n",
    "    fi;\n",
    "od;\n",
    "time;"
   ]
  },
  {
   "cell_type": "code",
   "execution_count": null,
   "metadata": {},
   "outputs": [],
   "source": []
  },
  {
   "cell_type": "code",
   "execution_count": null,
   "metadata": {},
   "outputs": [],
   "source": []
  }
 ],
 "metadata": {
  "kernelspec": {
   "display_name": "GAP 4",
   "language": "gap",
   "name": "gap-4"
  },
  "language_info": {
   "codemirror_mode": "gap",
   "file_extension": ".g",
   "mimetype": "text/x-gap",
   "name": "GAP 4",
   "nbconvert_exporter": "",
   "pygments_lexer": "gap",
   "version": "4.10.2"
  }
 },
 "nbformat": 4,
 "nbformat_minor": 2
}
