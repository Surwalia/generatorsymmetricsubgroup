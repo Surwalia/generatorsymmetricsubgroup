{
 "cells": [
  {
   "cell_type": "markdown",
   "metadata": {},
   "source": [
    "# Generator of symmetric subgroup of $V(FC_3)$"
   ]
  },
  {
   "cell_type": "code",
   "execution_count": null,
   "metadata": {},
   "outputs": [],
   "source": [
    "Read(\"generatorsymmetricsubgroup.g\");\n"
   ]
  },
  {
   "cell_type": "code",
   "execution_count": null,
   "metadata": {},
   "outputs": [],
   "source": [
    "Print(generatorsymmetricsubgroup(7,1));\n",
    "time;"
   ]
  },
  {
   "cell_type": "code",
   "execution_count": null,
   "metadata": {},
   "outputs": [],
   "source": [
    "p:=7;;\n",
    "n:=1;;\n",
    "F:=GF(p^n);;\n",
    "q:=(PrimitiveElement(F))^(Size(F)-1);;\n",
    "G:=CyclicGroup(3);;\n",
    "FG:=GroupRing(F,G);;\n",
    "u:=Units(FG);;\n"
   ]
  },
  {
   "cell_type": "code",
   "execution_count": null,
   "metadata": {},
   "outputs": [],
   "source": [
    "t:=[];;\n",
    "for i in u do\n",
    "    if IsSymmetric(i)\n",
    "        then Append(t,[i]);\n",
    "    fi;\n",
    "od;"
   ]
  },
  {
   "cell_type": "code",
   "execution_count": null,
   "metadata": {},
   "outputs": [],
   "source": [
    "s:=[];;\n",
    "for i in t do\n",
    "    if Order(i) = (7-1)\n",
    "        then\n",
    "        Append(s,[i]);\n",
    "    fi;\n",
    "od;\n",
    "\n"
   ]
  },
  {
   "cell_type": "code",
   "execution_count": null,
   "metadata": {},
   "outputs": [],
   "source": [
    "for i in [1,2..Size(s)] do\n",
    "    if Augmentation(s[i]) = q\n",
    "        then Print(s[i]);\n",
    "    fi;\n",
    "od;\n",
    "time;"
   ]
  },
  {
   "cell_type": "code",
   "execution_count": null,
   "metadata": {},
   "outputs": [],
   "source": []
  },
  {
   "cell_type": "code",
   "execution_count": null,
   "metadata": {},
   "outputs": [],
   "source": []
  }
 ],
 "metadata": {
  "kernelspec": {
   "display_name": "GAP 4",
   "language": "gap",
   "name": "gap-4"
  },
  "language_info": {
   "codemirror_mode": "gap",
   "file_extension": ".g",
   "mimetype": "text/x-gap",
   "name": "GAP 4",
   "nbconvert_exporter": "",
   "pygments_lexer": "gap",
   "version": "4.10.2"
  }
 },
 "nbformat": 4,
 "nbformat_minor": 2
}
